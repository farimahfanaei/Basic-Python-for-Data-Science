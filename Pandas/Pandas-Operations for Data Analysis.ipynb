{
 "cells": [
  {
   "cell_type": "code",
   "execution_count": 2,
   "metadata": {},
   "outputs": [
    {
     "data": {
      "text/html": [
       "<div>\n",
       "<style scoped>\n",
       "    .dataframe tbody tr th:only-of-type {\n",
       "        vertical-align: middle;\n",
       "    }\n",
       "\n",
       "    .dataframe tbody tr th {\n",
       "        vertical-align: top;\n",
       "    }\n",
       "\n",
       "    .dataframe thead th {\n",
       "        text-align: right;\n",
       "    }\n",
       "</style>\n",
       "<table border=\"1\" class=\"dataframe\">\n",
       "  <thead>\n",
       "    <tr style=\"text-align: right;\">\n",
       "      <th></th>\n",
       "      <th>col1</th>\n",
       "      <th>col2</th>\n",
       "      <th>col3</th>\n",
       "    </tr>\n",
       "  </thead>\n",
       "  <tbody>\n",
       "    <tr>\n",
       "      <th>0</th>\n",
       "      <td>1</td>\n",
       "      <td>444</td>\n",
       "      <td>abc</td>\n",
       "    </tr>\n",
       "    <tr>\n",
       "      <th>1</th>\n",
       "      <td>2</td>\n",
       "      <td>555</td>\n",
       "      <td>def</td>\n",
       "    </tr>\n",
       "    <tr>\n",
       "      <th>2</th>\n",
       "      <td>3</td>\n",
       "      <td>666</td>\n",
       "      <td>ghi</td>\n",
       "    </tr>\n",
       "    <tr>\n",
       "      <th>3</th>\n",
       "      <td>4</td>\n",
       "      <td>444</td>\n",
       "      <td>xyz</td>\n",
       "    </tr>\n",
       "  </tbody>\n",
       "</table>\n",
       "</div>"
      ],
      "text/plain": [
       "   col1  col2 col3\n",
       "0     1   444  abc\n",
       "1     2   555  def\n",
       "2     3   666  ghi\n",
       "3     4   444  xyz"
      ]
     },
     "execution_count": 2,
     "metadata": {},
     "output_type": "execute_result"
    }
   ],
   "source": [
    "import pandas as pd\n",
    "df = pd.DataFrame({'col1':[1,2,3,4],'col2':[444,555,666,444],'col3':['abc','def','ghi','xyz']})\n",
    "df.head()"
   ]
  },
  {
   "cell_type": "code",
   "execution_count": 4,
   "metadata": {},
   "outputs": [
    {
     "data": {
      "text/plain": [
       "array([444, 555, 666], dtype=int64)"
      ]
     },
     "execution_count": 4,
     "metadata": {},
     "output_type": "execute_result"
    }
   ],
   "source": [
    "# unique() method to find a unique values in a DataFrame and nunique() to retrieve the number of unique values \n",
    "df['col2'].unique()"
   ]
  },
  {
   "cell_type": "code",
   "execution_count": 5,
   "metadata": {},
   "outputs": [
    {
     "data": {
      "text/plain": [
       "444    2\n",
       "555    1\n",
       "666    1\n",
       "Name: col2, dtype: int64"
      ]
     },
     "execution_count": 5,
     "metadata": {},
     "output_type": "execute_result"
    }
   ],
   "source": [
    "#value_counts() method to get the number of occurance of each values in a column \n",
    "df['col2'].value_counts()"
   ]
  },
  {
   "cell_type": "code",
   "execution_count": 8,
   "metadata": {},
   "outputs": [
    {
     "data": {
      "text/plain": [
       "0     1\n",
       "1     4\n",
       "2     9\n",
       "3    16\n",
       "Name: col1, dtype: int64"
      ]
     },
     "execution_count": 8,
     "metadata": {},
     "output_type": "execute_result"
    }
   ],
   "source": [
    "#apply() : using this method we can apply our customised built in functions \n",
    "def func_power2(x):\n",
    "    return x**2\n",
    "df['col1'].apply(func_power2)"
   ]
  },
  {
   "cell_type": "code",
   "execution_count": 9,
   "metadata": {},
   "outputs": [
    {
     "data": {
      "text/plain": [
       "4"
      ]
     },
     "execution_count": 9,
     "metadata": {},
     "output_type": "execute_result"
    }
   ],
   "source": [
    "len(df['col3'])"
   ]
  },
  {
   "cell_type": "code",
   "execution_count": 10,
   "metadata": {},
   "outputs": [
    {
     "data": {
      "text/plain": [
       "0    3\n",
       "1    3\n",
       "2    3\n",
       "3    3\n",
       "Name: col3, dtype: int64"
      ]
     },
     "execution_count": 10,
     "metadata": {},
     "output_type": "execute_result"
    }
   ],
   "source": [
    "#to retrieve the length of each text element in a column \n",
    "df['col3'].apply(len)"
   ]
  },
  {
   "cell_type": "code",
   "execution_count": 11,
   "metadata": {},
   "outputs": [
    {
     "data": {
      "text/html": [
       "<div>\n",
       "<style scoped>\n",
       "    .dataframe tbody tr th:only-of-type {\n",
       "        vertical-align: middle;\n",
       "    }\n",
       "\n",
       "    .dataframe tbody tr th {\n",
       "        vertical-align: top;\n",
       "    }\n",
       "\n",
       "    .dataframe thead th {\n",
       "        text-align: right;\n",
       "    }\n",
       "</style>\n",
       "<table border=\"1\" class=\"dataframe\">\n",
       "  <thead>\n",
       "    <tr style=\"text-align: right;\">\n",
       "      <th></th>\n",
       "      <th>col1</th>\n",
       "      <th>col2</th>\n",
       "      <th>col3</th>\n",
       "    </tr>\n",
       "  </thead>\n",
       "  <tbody>\n",
       "    <tr>\n",
       "      <th>0</th>\n",
       "      <td>1</td>\n",
       "      <td>444</td>\n",
       "      <td>abc</td>\n",
       "    </tr>\n",
       "    <tr>\n",
       "      <th>1</th>\n",
       "      <td>2</td>\n",
       "      <td>555</td>\n",
       "      <td>def</td>\n",
       "    </tr>\n",
       "    <tr>\n",
       "      <th>2</th>\n",
       "      <td>3</td>\n",
       "      <td>666</td>\n",
       "      <td>ghi</td>\n",
       "    </tr>\n",
       "    <tr>\n",
       "      <th>3</th>\n",
       "      <td>4</td>\n",
       "      <td>444</td>\n",
       "      <td>xyz</td>\n",
       "    </tr>\n",
       "  </tbody>\n",
       "</table>\n",
       "</div>"
      ],
      "text/plain": [
       "   col1  col2 col3\n",
       "0     1   444  abc\n",
       "1     2   555  def\n",
       "2     3   666  ghi\n",
       "3     4   444  xyz"
      ]
     },
     "execution_count": 11,
     "metadata": {},
     "output_type": "execute_result"
    }
   ],
   "source": [
    "# to retrieve some info about the column names and head of a dataframe \n",
    "df.head()"
   ]
  },
  {
   "cell_type": "code",
   "execution_count": 12,
   "metadata": {},
   "outputs": [
    {
     "data": {
      "text/plain": [
       "Index(['col1', 'col2', 'col3'], dtype='object')"
      ]
     },
     "execution_count": 12,
     "metadata": {},
     "output_type": "execute_result"
    }
   ],
   "source": [
    "df.columns"
   ]
  },
  {
   "cell_type": "code",
   "execution_count": 14,
   "metadata": {},
   "outputs": [
    {
     "data": {
      "text/plain": [
       "RangeIndex(start=0, stop=4, step=1)"
      ]
     },
     "execution_count": 14,
     "metadata": {},
     "output_type": "execute_result"
    }
   ],
   "source": [
    "df.index\n",
    "#tells you start , stop and the stepsize of the indexes "
   ]
  },
  {
   "cell_type": "code",
   "execution_count": 15,
   "metadata": {},
   "outputs": [
    {
     "data": {
      "text/html": [
       "<div>\n",
       "<style scoped>\n",
       "    .dataframe tbody tr th:only-of-type {\n",
       "        vertical-align: middle;\n",
       "    }\n",
       "\n",
       "    .dataframe tbody tr th {\n",
       "        vertical-align: top;\n",
       "    }\n",
       "\n",
       "    .dataframe thead th {\n",
       "        text-align: right;\n",
       "    }\n",
       "</style>\n",
       "<table border=\"1\" class=\"dataframe\">\n",
       "  <thead>\n",
       "    <tr style=\"text-align: right;\">\n",
       "      <th></th>\n",
       "      <th>col1</th>\n",
       "      <th>col2</th>\n",
       "      <th>col3</th>\n",
       "    </tr>\n",
       "  </thead>\n",
       "  <tbody>\n",
       "    <tr>\n",
       "      <th>0</th>\n",
       "      <td>1</td>\n",
       "      <td>444</td>\n",
       "      <td>abc</td>\n",
       "    </tr>\n",
       "    <tr>\n",
       "      <th>3</th>\n",
       "      <td>4</td>\n",
       "      <td>444</td>\n",
       "      <td>xyz</td>\n",
       "    </tr>\n",
       "    <tr>\n",
       "      <th>1</th>\n",
       "      <td>2</td>\n",
       "      <td>555</td>\n",
       "      <td>def</td>\n",
       "    </tr>\n",
       "    <tr>\n",
       "      <th>2</th>\n",
       "      <td>3</td>\n",
       "      <td>666</td>\n",
       "      <td>ghi</td>\n",
       "    </tr>\n",
       "  </tbody>\n",
       "</table>\n",
       "</div>"
      ],
      "text/plain": [
       "   col1  col2 col3\n",
       "0     1   444  abc\n",
       "3     4   444  xyz\n",
       "1     2   555  def\n",
       "2     3   666  ghi"
      ]
     },
     "execution_count": 15,
     "metadata": {},
     "output_type": "execute_result"
    }
   ],
   "source": [
    "#sorting and Ordering the Dataframe by passing the column or axis to the method:\n",
    "df.sort_values('col2')\n"
   ]
  },
  {
   "cell_type": "code",
   "execution_count": 16,
   "metadata": {},
   "outputs": [
    {
     "data": {
      "text/html": [
       "<div>\n",
       "<style scoped>\n",
       "    .dataframe tbody tr th:only-of-type {\n",
       "        vertical-align: middle;\n",
       "    }\n",
       "\n",
       "    .dataframe tbody tr th {\n",
       "        vertical-align: top;\n",
       "    }\n",
       "\n",
       "    .dataframe thead th {\n",
       "        text-align: right;\n",
       "    }\n",
       "</style>\n",
       "<table border=\"1\" class=\"dataframe\">\n",
       "  <thead>\n",
       "    <tr style=\"text-align: right;\">\n",
       "      <th></th>\n",
       "      <th>col1</th>\n",
       "      <th>col2</th>\n",
       "      <th>col3</th>\n",
       "    </tr>\n",
       "  </thead>\n",
       "  <tbody>\n",
       "    <tr>\n",
       "      <th>0</th>\n",
       "      <td>False</td>\n",
       "      <td>False</td>\n",
       "      <td>False</td>\n",
       "    </tr>\n",
       "    <tr>\n",
       "      <th>1</th>\n",
       "      <td>False</td>\n",
       "      <td>False</td>\n",
       "      <td>False</td>\n",
       "    </tr>\n",
       "    <tr>\n",
       "      <th>2</th>\n",
       "      <td>False</td>\n",
       "      <td>False</td>\n",
       "      <td>False</td>\n",
       "    </tr>\n",
       "    <tr>\n",
       "      <th>3</th>\n",
       "      <td>False</td>\n",
       "      <td>False</td>\n",
       "      <td>False</td>\n",
       "    </tr>\n",
       "  </tbody>\n",
       "</table>\n",
       "</div>"
      ],
      "text/plain": [
       "    col1   col2   col3\n",
       "0  False  False  False\n",
       "1  False  False  False\n",
       "2  False  False  False\n",
       "3  False  False  False"
      ]
     },
     "execution_count": 16,
     "metadata": {},
     "output_type": "execute_result"
    }
   ],
   "source": [
    "# isnull() to find the null values in a dateframe \n",
    "df.isnull()"
   ]
  },
  {
   "cell_type": "code",
   "execution_count": 14,
   "metadata": {},
   "outputs": [
    {
     "data": {
      "text/html": [
       "<div>\n",
       "<style scoped>\n",
       "    .dataframe tbody tr th:only-of-type {\n",
       "        vertical-align: middle;\n",
       "    }\n",
       "\n",
       "    .dataframe tbody tr th {\n",
       "        vertical-align: top;\n",
       "    }\n",
       "\n",
       "    .dataframe thead th {\n",
       "        text-align: right;\n",
       "    }\n",
       "</style>\n",
       "<table border=\"1\" class=\"dataframe\">\n",
       "  <thead>\n",
       "    <tr style=\"text-align: right;\">\n",
       "      <th></th>\n",
       "      <th>A</th>\n",
       "      <th>B</th>\n",
       "      <th>C</th>\n",
       "      <th>D</th>\n",
       "    </tr>\n",
       "  </thead>\n",
       "  <tbody>\n",
       "    <tr>\n",
       "      <th>0</th>\n",
       "      <td>0</td>\n",
       "      <td>1</td>\n",
       "      <td>2</td>\n",
       "      <td>3</td>\n",
       "    </tr>\n",
       "    <tr>\n",
       "      <th>1</th>\n",
       "      <td>4</td>\n",
       "      <td>5</td>\n",
       "      <td>6</td>\n",
       "      <td>7</td>\n",
       "    </tr>\n",
       "    <tr>\n",
       "      <th>2</th>\n",
       "      <td>8</td>\n",
       "      <td>9</td>\n",
       "      <td>10</td>\n",
       "      <td>11</td>\n",
       "    </tr>\n",
       "    <tr>\n",
       "      <th>3</th>\n",
       "      <td>12</td>\n",
       "      <td>13</td>\n",
       "      <td>14</td>\n",
       "      <td>15</td>\n",
       "    </tr>\n",
       "  </tbody>\n",
       "</table>\n",
       "</div>"
      ],
      "text/plain": [
       "    A   B   C   D\n",
       "0   0   1   2   3\n",
       "1   4   5   6   7\n",
       "2   8   9  10  11\n",
       "3  12  13  14  15"
      ]
     },
     "execution_count": 14,
     "metadata": {},
     "output_type": "execute_result"
    }
   ],
   "source": [
    "#................... Data Input and Output.......................\n",
    "# we can use Pandas to read or write data from/into diffent sources like CSV,HTML,Excel and SQL files\n",
    "#for SQL and HTML files you need the following libraries \n",
    "#      conda install sqlalchemy\n",
    "#      conda install lxml\n",
    "#      conda install html5lib\n",
    "#       \n",
    "\n",
    "#when we are refering to a file like CSV file it should be in the same location of Jupyter notebook, to read a csv file : \n",
    "pd.read_csv('test.csv')"
   ]
  },
  {
   "cell_type": "code",
   "execution_count": 3,
   "metadata": {},
   "outputs": [
    {
     "data": {
      "text/html": [
       "<div>\n",
       "<style scoped>\n",
       "    .dataframe tbody tr th:only-of-type {\n",
       "        vertical-align: middle;\n",
       "    }\n",
       "\n",
       "    .dataframe tbody tr th {\n",
       "        vertical-align: top;\n",
       "    }\n",
       "\n",
       "    .dataframe thead th {\n",
       "        text-align: right;\n",
       "    }\n",
       "</style>\n",
       "<table border=\"1\" class=\"dataframe\">\n",
       "  <thead>\n",
       "    <tr style=\"text-align: right;\">\n",
       "      <th></th>\n",
       "      <th>A</th>\n",
       "      <th>B</th>\n",
       "      <th>C</th>\n",
       "      <th>D</th>\n",
       "      <th>NewCol</th>\n",
       "    </tr>\n",
       "  </thead>\n",
       "  <tbody>\n",
       "    <tr>\n",
       "      <th>0</th>\n",
       "      <td>0</td>\n",
       "      <td>1</td>\n",
       "      <td>2</td>\n",
       "      <td>3</td>\n",
       "      <td>0</td>\n",
       "    </tr>\n",
       "    <tr>\n",
       "      <th>1</th>\n",
       "      <td>4</td>\n",
       "      <td>5</td>\n",
       "      <td>6</td>\n",
       "      <td>7</td>\n",
       "      <td>0</td>\n",
       "    </tr>\n",
       "    <tr>\n",
       "      <th>2</th>\n",
       "      <td>8</td>\n",
       "      <td>9</td>\n",
       "      <td>10</td>\n",
       "      <td>11</td>\n",
       "      <td>0</td>\n",
       "    </tr>\n",
       "    <tr>\n",
       "      <th>3</th>\n",
       "      <td>12</td>\n",
       "      <td>13</td>\n",
       "      <td>14</td>\n",
       "      <td>15</td>\n",
       "      <td>0</td>\n",
       "    </tr>\n",
       "  </tbody>\n",
       "</table>\n",
       "</div>"
      ],
      "text/plain": [
       "    A   B   C   D  NewCol\n",
       "0   0   1   2   3       0\n",
       "1   4   5   6   7       0\n",
       "2   8   9  10  11       0\n",
       "3  12  13  14  15       0"
      ]
     },
     "execution_count": 3,
     "metadata": {},
     "output_type": "execute_result"
    }
   ],
   "source": [
    "#there are variety of methods for reading different files like json, html, ... \n",
    "# to write into a file again we have different methods starting with dataframe.to_...\n",
    "dataframe= pd.read_csv('test.csv')\n",
    "dataframe['NewCol']=[0,0,0,0]\n",
    "dataframe"
   ]
  },
  {
   "cell_type": "code",
   "execution_count": 4,
   "metadata": {},
   "outputs": [],
   "source": [
    "#writig to a csv file\n",
    "dataframe.to_csv('CSV_Output', index=False)"
   ]
  },
  {
   "cell_type": "code",
   "execution_count": 5,
   "metadata": {},
   "outputs": [
    {
     "data": {
      "text/html": [
       "<div>\n",
       "<style scoped>\n",
       "    .dataframe tbody tr th:only-of-type {\n",
       "        vertical-align: middle;\n",
       "    }\n",
       "\n",
       "    .dataframe tbody tr th {\n",
       "        vertical-align: top;\n",
       "    }\n",
       "\n",
       "    .dataframe thead th {\n",
       "        text-align: right;\n",
       "    }\n",
       "</style>\n",
       "<table border=\"1\" class=\"dataframe\">\n",
       "  <thead>\n",
       "    <tr style=\"text-align: right;\">\n",
       "      <th></th>\n",
       "      <th>A</th>\n",
       "      <th>B</th>\n",
       "      <th>C</th>\n",
       "      <th>D</th>\n",
       "      <th>NewCol</th>\n",
       "    </tr>\n",
       "  </thead>\n",
       "  <tbody>\n",
       "    <tr>\n",
       "      <th>0</th>\n",
       "      <td>0</td>\n",
       "      <td>1</td>\n",
       "      <td>2</td>\n",
       "      <td>3</td>\n",
       "      <td>0</td>\n",
       "    </tr>\n",
       "    <tr>\n",
       "      <th>1</th>\n",
       "      <td>4</td>\n",
       "      <td>5</td>\n",
       "      <td>6</td>\n",
       "      <td>7</td>\n",
       "      <td>0</td>\n",
       "    </tr>\n",
       "    <tr>\n",
       "      <th>2</th>\n",
       "      <td>8</td>\n",
       "      <td>9</td>\n",
       "      <td>10</td>\n",
       "      <td>11</td>\n",
       "      <td>0</td>\n",
       "    </tr>\n",
       "    <tr>\n",
       "      <th>3</th>\n",
       "      <td>12</td>\n",
       "      <td>13</td>\n",
       "      <td>14</td>\n",
       "      <td>15</td>\n",
       "      <td>0</td>\n",
       "    </tr>\n",
       "  </tbody>\n",
       "</table>\n",
       "</div>"
      ],
      "text/plain": [
       "    A   B   C   D  NewCol\n",
       "0   0   1   2   3       0\n",
       "1   4   5   6   7       0\n",
       "2   8   9  10  11       0\n",
       "3  12  13  14  15       0"
      ]
     },
     "execution_count": 5,
     "metadata": {},
     "output_type": "execute_result"
    }
   ],
   "source": [
    "pd.read_csv('CSV_Output')"
   ]
  },
  {
   "cell_type": "code",
   "execution_count": 6,
   "metadata": {},
   "outputs": [],
   "source": [
    "#reading Html with pandas : in this case Pandas will search for all the tables in that specific html page :\n",
    "html_Page= pd.read_html('https://www.fasttrack.co.uk/league-tables/tech-track-100/league-table/')"
   ]
  },
  {
   "cell_type": "code",
   "execution_count": 7,
   "metadata": {},
   "outputs": [
    {
     "data": {
      "text/plain": [
       "list"
      ]
     },
     "execution_count": 7,
     "metadata": {},
     "output_type": "execute_result"
    }
   ],
   "source": [
    " type(html_Page)"
   ]
  },
  {
   "cell_type": "code",
   "execution_count": 9,
   "metadata": {},
   "outputs": [
    {
     "data": {
      "text/plain": [
       "[        0                                                  1                2  \\\n",
       " 0    Rank                                            Company         Location   \n",
       " 1       1                    Plan.comCommunications provider      Isle of Man   \n",
       " 2       2                     PsiOxusBiotechnology developer      Oxfordshire   \n",
       " 3       3         CensorNetCloud security software developer      Basingstoke   \n",
       " 4       4          thoughtonomyAutomation software developer      East London   \n",
       " 5       5                PerkboxEmployee engagement services   Central London   \n",
       " 6       6                         OguryMobile data marketing     North London   \n",
       " 7       7                  VerveMarketing software developer   Central London   \n",
       " 8       8          goHenryChildren's pre-paid card developer   Central London   \n",
       " 9       9                   DarktraceCybersecurity developer        Cambridge   \n",
       " 10     10                      BizumaB2B e-commerce platform   Central London   \n",
       " 11     11                           DepopSocial shopping app   Central London   \n",
       " 12     12  Laser Wire SolutionsLaser wire-stripping machi...       Pontypridd   \n",
       " 13     13        Bought By ManySpecialist insurance platform   Central London   \n",
       " 14     14                     OptalPayment services provider   Central London   \n",
       " 15     15                   InfinoxCurrency trading platform   Central London   \n",
       " 16     16                  OakbrookConsumer finance provider       Nottingham   \n",
       " 17     17                           CarwowCar sales platform   Central London   \n",
       " 18     18       Receipt BankBook-keeping automation services   Central London   \n",
       " 19     19          dB BroadcastBroadcast technology provider   Cambridgeshire   \n",
       " 20     20             The Car Buying GroupCar sales platform        Wakefield   \n",
       " 21     21                 FesticketFestival booking platform   Central London   \n",
       " 22     22                          PlanixsSoftware developer       Manchester   \n",
       " 23     23                GigaclearInternet services provider      Oxfordshire   \n",
       " 24     24             TransferWiseCurrency transfer provider      East London   \n",
       " 25     25                           PatSnapR&D data platform      West London   \n",
       " 26     26               HyperopticInternet services provider      West London   \n",
       " 27     27                GoCardlessPayment services provider   Central London   \n",
       " 28     28                       PurpleWifi services provider           Oldham   \n",
       " 29     29             Trustpay GlobalOnline payment provider        Guildford   \n",
       " ..    ...                                                ...              ...   \n",
       " 71     71        Love Energy SavingsPrice comparison website           Bolton   \n",
       " 72     72                  Creative VirtualChatbot developer      East London   \n",
       " 73     73                     EburyBusiness finance provider   Central London   \n",
       " 74     74               ZappiStoreResearch services provider   Central London   \n",
       " 75     75                       BlisLocation data technology   Central London   \n",
       " 76     76                BookingBugBooking systems developer   Central London   \n",
       " 77     77                       EgressData security provider   Central London   \n",
       " 78     78              Contis GroupPayment services provider  North Yorkshire   \n",
       " 79     79                  PM ConnectMobile content provider       Birmingham   \n",
       " 80     80                  ZopaPeer-to-peer lending platform     South London   \n",
       " 81     81                   WorldRemitOnline money transfers   Central London   \n",
       " 82     82                 DianomiFinancial content marketing   Central London   \n",
       " 83     83                       LiberisCash advance provider      West London   \n",
       " 84     84             CurrencycloudPayment services provider      East London   \n",
       " 85     85           FeaturespaceAnalytics software developer        Cambridge   \n",
       " 86     86       Cloud Technology SolutionsCloud IT developer       Manchester   \n",
       " 87     87      Leisure Pass GroupTourism smartcard developer   Central London   \n",
       " 88     88                       rradarLegal digital services             Hull   \n",
       " 89     89                 Converge TSCloud services provider         Cheshire   \n",
       " 90     90              Kimble ApplicationsSoftware developer   Central London   \n",
       " 91     91              PaymentsensePayment services provider      West London   \n",
       " 92     92               Godel TechnologiesSoftware developer       Manchester   \n",
       " 93     93               Secret EscapesOnline travel services   Central London   \n",
       " 94     94                        NeuvenHR software developer       Manchester   \n",
       " 95     95                     CitNOWVideo software developer        Wokingham   \n",
       " 96     96                         geoSmart energy monitoring        Cambridge   \n",
       " 97     97              Vision RTMedical technology developer     North London   \n",
       " 98     98                      ThreadOnline fashion services   Central London   \n",
       " 99     99            The Media ImageDigital marketing agency     South London   \n",
       " 100   100       Brompton TechnologyVideo technology provider      West London   \n",
       " \n",
       "             3                               4                   5      6  \\\n",
       " 0    Year end  Annual sales rise over 3 years  Latest sales £000s  Staff   \n",
       " 1      Sep-17                         364.38%             *35,418     90   \n",
       " 2      Dec-17                         311.67%               53136     54   \n",
       " 3      Dec-17                         210.17%              *7,535     77   \n",
       " 4      May-18                         205.20%             *16,916    100   \n",
       " 5      Dec-17                         204.12%             *34,700    200   \n",
       " 6      Dec-17                         204.09%               33760    133   \n",
       " 7      Dec-17                         202.15%             *10,747    130   \n",
       " 8      Dec-17                         200.87%              *6,116     61   \n",
       " 9      Jun-18                         195.51%             *58,573    694   \n",
       " 10     Mar-18                         181.75%              *9,608     48   \n",
       " 11     Dec-17                         175.70%             *94,300     95   \n",
       " 12     Dec-17                         173.41%              *5,114     26   \n",
       " 13     Mar-18                         170.20%             *19,727     78   \n",
       " 14     Dec-17                         169.29%              177653     65   \n",
       " 15     Mar-18                         155.18%             *41,700     48   \n",
       " 16     Dec-17                         154.54%             *40,400     98   \n",
       " 17     Dec-17                         147.21%             *15,276    127   \n",
       " 18     Dec-17                         146.07%             *11,667    341   \n",
       " 19     Sep-17                         143.58%               34943     50   \n",
       " 20     Mar-18                         140.89%             *39,140     31   \n",
       " 21     Dec-17                         139.86%               35839     88   \n",
       " 22     Mar-17                         133.70%              *7,240     67   \n",
       " 23     Dec-17                         130.17%                7402    210   \n",
       " 24     Mar-18                         129.39%            *117,283   1000   \n",
       " 25     Dec-17                         126.18%             *17,977    752   \n",
       " 26     Dec-17                         119.90%               16572    411   \n",
       " 27     Dec-17                         112.99%             *11,896    165   \n",
       " 28     Jan-18                         112.88%              *5,586     93   \n",
       " 29     Mar-18                         110.45%              *9,796     25   \n",
       " ..        ...                             ...                 ...    ...   \n",
       " 71     Dec-17                          64.26%               17361    183   \n",
       " 72     Dec-17                          63.30%              *8,400     99   \n",
       " 73     Apr-18                          62.77%             *47,000    628   \n",
       " 74     Dec-17                          61.62%               19323    128   \n",
       " 75     Dec-17                          61.28%             *33,400    186   \n",
       " 76     Mar-18                          60.61%              *6,937    117   \n",
       " 77     Dec-17                          60.22%                9403    115   \n",
       " 78     Mar-17                          59.56%                7161     86   \n",
       " 79     Feb-18                          59.44%             *19,317     35   \n",
       " 80     Dec-17                          59.43%             *46,500    312   \n",
       " 81     Dec-17                          59.07%             *61,000    440   \n",
       " 82     Dec-17                          58.99%             *12,861     25   \n",
       " 83     Dec-17                          57.99%             *15,150     75   \n",
       " 84     Dec-17                          57.48%             *13,600    140   \n",
       " 85     Dec-17                          57.48%              *5,170    113   \n",
       " 86     Mar-18                          57.21%             *21,902    102   \n",
       " 87     Dec-17                          57.16%            †225,803    105   \n",
       " 88     Dec-17                          57.03%              *5,083    125   \n",
       " 89     Dec-17                          55.00%              *5,802     38   \n",
       " 90     Dec-17                          54.67%              *9,153     78   \n",
       " 91     Mar-18                          53.54%             *72,400    243   \n",
       " 92     Dec-17                          53.01%             *13,853    637   \n",
       " 93     Dec-17                          52.99%             *73,000    850   \n",
       " 94     Jul-17                          52.23%              130071     28   \n",
       " 95     Dec-17                          51.85%             *11,611     71   \n",
       " 96     Mar-18                          51.24%             *29,406     85   \n",
       " 97     Jul-17                          50.99%               32468    132   \n",
       " 98     Dec-17                          50.77%              *6,492     60   \n",
       " 99     Feb-18                          50.38%             *27,515     37   \n",
       " 100    Aug-17                          50.17%              *5,250     27   \n",
       " \n",
       "                                                      7  \n",
       " 0                                              Comment  \n",
       " 1    About 650 partners use its telecoms platform t...  \n",
       " 2    Received a $15m milestone payment from its dev...  \n",
       " 3    Has more than 4,000 customers, including McDon...  \n",
       " 4    It sells to 28 countries and 50% of revenue is...  \n",
       " 5    Acquired software platform Loyalty Bay for an ...  \n",
       " 6    It has access to data from more than 400m mobi...  \n",
       " 7    Its network of 25,000 ‘micro-influencers’ have...  \n",
       " 8    The company is named after the first child to ...  \n",
       " 9    Was reportedly valued at $1.25bn in April when...  \n",
       " 10   Originally founded as a flash sales website be...  \n",
       " 11   More than 10m people use its platform to buy a...  \n",
       " 12   Swiss technology group Schleuniger took a 20% ...  \n",
       " 13   Launched its own travel insurance policy for p...  \n",
       " 14   Uses the Mastercard processing network to faci...  \n",
       " 15   Provides users with an AI-generated news feed ...  \n",
       " 16   Uses machine learning to help estimate borrowe...  \n",
       " 17   Claims its car review videos have more viewers...  \n",
       " 18   Says 150,000 businesses in America, Europe and...  \n",
       " 19   Its key customers include Sky, YouTube, Bloomb...  \n",
       " 20   Runs a free nationwide doorstep vehicle collec...  \n",
       " 21   Sells tickets and packages to more than 1,000 ...  \n",
       " 22   More than £200bn worth of transactions have be...  \n",
       " 23   Has connected more than 16,000 rural customers...  \n",
       " 24   Was valued at $1.6bn in November after it rais...  \n",
       " 25   Has raised more than $100m from investors incl...  \n",
       " 26   Aims to provide superfast broadband to more th...  \n",
       " 27   International expansion plans include targetin...  \n",
       " 28   Its technology is used in every public airport...  \n",
       " 29   The Premier Lotto in Nigeria uses the company’...  \n",
       " ..                                                 ...  \n",
       " 71   Has helped 145,000 UK homes and businesses sav...  \n",
       " 72   Its trademarked chatbot can be used through Fa...  \n",
       " 73   Has traded £12.5bn in foreign exchange in 140 ...  \n",
       " 74   Holds weekly hackathons with its clients and p...  \n",
       " 75       Analyses more than 5.5bn data points each day  \n",
       " 76   Raised nearly £10m in April from backers inclu...  \n",
       " 77   Users of its platform can revoke access to ema...  \n",
       " 78   Appointed the former European boss of American...  \n",
       " 79   Its clients include World Wrestling Entertainm...  \n",
       " 80   About £3.5bn has been advanced through its pla...  \n",
       " 81   Has raised $220m since 2010 to expand its onli...  \n",
       " 82   Works with eight of the top 10 global asset ma...  \n",
       " 83   Received £57.5m in funding in April from inves...  \n",
       " 84   Has 250 clients and 2m end users across the world  \n",
       " 85   Is recruiting for more than 100 positions this...  \n",
       " 86   Its software has moved nearly 12,000 companies...  \n",
       " 87   Has partnered with the booking platform Ctrip ...  \n",
       " 88   Uses machine learning and AI to provide legal ...  \n",
       " 89   Focused solely on the legal sector after its f...  \n",
       " 90   More than half of its new business is in the U...  \n",
       " 91   Processed more than £6.5bn of card payments la...  \n",
       " 92   Is named after the late German mathematician K...  \n",
       " 93   Has raised £132m from investors including Goog...  \n",
       " 94   Appearing on Tech Track 100 for a fourth conse...  \n",
       " 95   Has more than 8,000 installations in franchise...  \n",
       " 96   Customers in Norway, Sweden and Luxembourg use...  \n",
       " 97   Has secured 60 patents and has another 46 pending  \n",
       " 98   More than 800,000 men subscribe to its free pe...  \n",
       " 99   Founded by the man who was Google UK’s first r...  \n",
       " 100  Its technology is used in high-profile events ...  \n",
       " \n",
       " [101 rows x 8 columns]]"
      ]
     },
     "execution_count": 9,
     "metadata": {},
     "output_type": "execute_result"
    }
   ],
   "source": [
    "html_Page"
   ]
  },
  {
   "cell_type": "code",
   "execution_count": 10,
   "metadata": {},
   "outputs": [
    {
     "data": {
      "text/html": [
       "<div>\n",
       "<style scoped>\n",
       "    .dataframe tbody tr th:only-of-type {\n",
       "        vertical-align: middle;\n",
       "    }\n",
       "\n",
       "    .dataframe tbody tr th {\n",
       "        vertical-align: top;\n",
       "    }\n",
       "\n",
       "    .dataframe thead th {\n",
       "        text-align: right;\n",
       "    }\n",
       "</style>\n",
       "<table border=\"1\" class=\"dataframe\">\n",
       "  <thead>\n",
       "    <tr style=\"text-align: right;\">\n",
       "      <th></th>\n",
       "      <th>0</th>\n",
       "      <th>1</th>\n",
       "      <th>2</th>\n",
       "      <th>3</th>\n",
       "      <th>4</th>\n",
       "      <th>5</th>\n",
       "      <th>6</th>\n",
       "      <th>7</th>\n",
       "    </tr>\n",
       "  </thead>\n",
       "  <tbody>\n",
       "    <tr>\n",
       "      <th>0</th>\n",
       "      <td>Rank</td>\n",
       "      <td>Company</td>\n",
       "      <td>Location</td>\n",
       "      <td>Year end</td>\n",
       "      <td>Annual sales rise over 3 years</td>\n",
       "      <td>Latest sales £000s</td>\n",
       "      <td>Staff</td>\n",
       "      <td>Comment</td>\n",
       "    </tr>\n",
       "    <tr>\n",
       "      <th>1</th>\n",
       "      <td>1</td>\n",
       "      <td>Plan.comCommunications provider</td>\n",
       "      <td>Isle of Man</td>\n",
       "      <td>Sep-17</td>\n",
       "      <td>364.38%</td>\n",
       "      <td>*35,418</td>\n",
       "      <td>90</td>\n",
       "      <td>About 650 partners use its telecoms platform t...</td>\n",
       "    </tr>\n",
       "    <tr>\n",
       "      <th>2</th>\n",
       "      <td>2</td>\n",
       "      <td>PsiOxusBiotechnology developer</td>\n",
       "      <td>Oxfordshire</td>\n",
       "      <td>Dec-17</td>\n",
       "      <td>311.67%</td>\n",
       "      <td>53136</td>\n",
       "      <td>54</td>\n",
       "      <td>Received a $15m milestone payment from its dev...</td>\n",
       "    </tr>\n",
       "    <tr>\n",
       "      <th>3</th>\n",
       "      <td>3</td>\n",
       "      <td>CensorNetCloud security software developer</td>\n",
       "      <td>Basingstoke</td>\n",
       "      <td>Dec-17</td>\n",
       "      <td>210.17%</td>\n",
       "      <td>*7,535</td>\n",
       "      <td>77</td>\n",
       "      <td>Has more than 4,000 customers, including McDon...</td>\n",
       "    </tr>\n",
       "    <tr>\n",
       "      <th>4</th>\n",
       "      <td>4</td>\n",
       "      <td>thoughtonomyAutomation software developer</td>\n",
       "      <td>East London</td>\n",
       "      <td>May-18</td>\n",
       "      <td>205.20%</td>\n",
       "      <td>*16,916</td>\n",
       "      <td>100</td>\n",
       "      <td>It sells to 28 countries and 50% of revenue is...</td>\n",
       "    </tr>\n",
       "  </tbody>\n",
       "</table>\n",
       "</div>"
      ],
      "text/plain": [
       "      0                                           1            2         3  \\\n",
       "0  Rank                                     Company     Location  Year end   \n",
       "1     1             Plan.comCommunications provider  Isle of Man    Sep-17   \n",
       "2     2              PsiOxusBiotechnology developer  Oxfordshire    Dec-17   \n",
       "3     3  CensorNetCloud security software developer  Basingstoke    Dec-17   \n",
       "4     4   thoughtonomyAutomation software developer  East London    May-18   \n",
       "\n",
       "                                4                   5      6  \\\n",
       "0  Annual sales rise over 3 years  Latest sales £000s  Staff   \n",
       "1                         364.38%             *35,418     90   \n",
       "2                         311.67%               53136     54   \n",
       "3                         210.17%              *7,535     77   \n",
       "4                         205.20%             *16,916    100   \n",
       "\n",
       "                                                   7  \n",
       "0                                            Comment  \n",
       "1  About 650 partners use its telecoms platform t...  \n",
       "2  Received a $15m milestone payment from its dev...  \n",
       "3  Has more than 4,000 customers, including McDon...  \n",
       "4  It sells to 28 countries and 50% of revenue is...  "
      ]
     },
     "execution_count": 10,
     "metadata": {},
     "output_type": "execute_result"
    }
   ],
   "source": [
    "html_Page[0].head()"
   ]
  },
  {
   "cell_type": "code",
   "execution_count": 16,
   "metadata": {},
   "outputs": [],
   "source": [
    "# reading a DB table in Python and generate a DataFrame out of that:\n",
    "# for that you always should search the specific driver based on your specific SQL engine ex) postgrsql ==> psycopg2\n",
    "#in the following example we create an SQL engine in memory \n",
    "\n",
    "from sqlalchemy import create_engine\n",
    "\n",
    "engine=create_engine('sqlite:///:memory:')"
   ]
  },
  {
   "cell_type": "code",
   "execution_count": 17,
   "metadata": {},
   "outputs": [
    {
     "data": {
      "text/html": [
       "<div>\n",
       "<style scoped>\n",
       "    .dataframe tbody tr th:only-of-type {\n",
       "        vertical-align: middle;\n",
       "    }\n",
       "\n",
       "    .dataframe tbody tr th {\n",
       "        vertical-align: top;\n",
       "    }\n",
       "\n",
       "    .dataframe thead th {\n",
       "        text-align: right;\n",
       "    }\n",
       "</style>\n",
       "<table border=\"1\" class=\"dataframe\">\n",
       "  <thead>\n",
       "    <tr style=\"text-align: right;\">\n",
       "      <th></th>\n",
       "      <th>col1</th>\n",
       "      <th>col2</th>\n",
       "      <th>col3</th>\n",
       "    </tr>\n",
       "  </thead>\n",
       "  <tbody>\n",
       "    <tr>\n",
       "      <th>0</th>\n",
       "      <td>1</td>\n",
       "      <td>444</td>\n",
       "      <td>abc</td>\n",
       "    </tr>\n",
       "    <tr>\n",
       "      <th>1</th>\n",
       "      <td>2</td>\n",
       "      <td>555</td>\n",
       "      <td>def</td>\n",
       "    </tr>\n",
       "    <tr>\n",
       "      <th>2</th>\n",
       "      <td>3</td>\n",
       "      <td>666</td>\n",
       "      <td>ghi</td>\n",
       "    </tr>\n",
       "    <tr>\n",
       "      <th>3</th>\n",
       "      <td>4</td>\n",
       "      <td>444</td>\n",
       "      <td>xyz</td>\n",
       "    </tr>\n",
       "  </tbody>\n",
       "</table>\n",
       "</div>"
      ],
      "text/plain": [
       "   col1  col2 col3\n",
       "0     1   444  abc\n",
       "1     2   555  def\n",
       "2     3   666  ghi\n",
       "3     4   444  xyz"
      ]
     },
     "execution_count": 17,
     "metadata": {},
     "output_type": "execute_result"
    }
   ],
   "source": [
    " df"
   ]
  },
  {
   "cell_type": "code",
   "execution_count": 18,
   "metadata": {},
   "outputs": [],
   "source": [
    "#now we can write this Dataframe into our temporary engine (as a table in a DB) that we have running in memory, we pass the engine as the connection :\n",
    "df.to_sql('table_test', engine)\n"
   ]
  },
  {
   "cell_type": "code",
   "execution_count": 19,
   "metadata": {},
   "outputs": [],
   "source": [
    "sqldataFrame=pd.read_sql('table_test', con=engine)"
   ]
  },
  {
   "cell_type": "code",
   "execution_count": 20,
   "metadata": {},
   "outputs": [
    {
     "data": {
      "text/html": [
       "<div>\n",
       "<style scoped>\n",
       "    .dataframe tbody tr th:only-of-type {\n",
       "        vertical-align: middle;\n",
       "    }\n",
       "\n",
       "    .dataframe tbody tr th {\n",
       "        vertical-align: top;\n",
       "    }\n",
       "\n",
       "    .dataframe thead th {\n",
       "        text-align: right;\n",
       "    }\n",
       "</style>\n",
       "<table border=\"1\" class=\"dataframe\">\n",
       "  <thead>\n",
       "    <tr style=\"text-align: right;\">\n",
       "      <th></th>\n",
       "      <th>index</th>\n",
       "      <th>col1</th>\n",
       "      <th>col2</th>\n",
       "      <th>col3</th>\n",
       "    </tr>\n",
       "  </thead>\n",
       "  <tbody>\n",
       "    <tr>\n",
       "      <th>0</th>\n",
       "      <td>0</td>\n",
       "      <td>1</td>\n",
       "      <td>444</td>\n",
       "      <td>abc</td>\n",
       "    </tr>\n",
       "    <tr>\n",
       "      <th>1</th>\n",
       "      <td>1</td>\n",
       "      <td>2</td>\n",
       "      <td>555</td>\n",
       "      <td>def</td>\n",
       "    </tr>\n",
       "    <tr>\n",
       "      <th>2</th>\n",
       "      <td>2</td>\n",
       "      <td>3</td>\n",
       "      <td>666</td>\n",
       "      <td>ghi</td>\n",
       "    </tr>\n",
       "    <tr>\n",
       "      <th>3</th>\n",
       "      <td>3</td>\n",
       "      <td>4</td>\n",
       "      <td>444</td>\n",
       "      <td>xyz</td>\n",
       "    </tr>\n",
       "  </tbody>\n",
       "</table>\n",
       "</div>"
      ],
      "text/plain": [
       "   index  col1  col2 col3\n",
       "0      0     1   444  abc\n",
       "1      1     2   555  def\n",
       "2      2     3   666  ghi\n",
       "3      3     4   444  xyz"
      ]
     },
     "execution_count": 20,
     "metadata": {},
     "output_type": "execute_result"
    }
   ],
   "source": [
    "sqldataFrame\n",
    "#as you can see the index has been considered as a new column here"
   ]
  },
  {
   "cell_type": "code",
   "execution_count": null,
   "metadata": {},
   "outputs": [],
   "source": []
  }
 ],
 "metadata": {
  "kernelspec": {
   "display_name": "Python 3",
   "language": "python",
   "name": "python3"
  },
  "language_info": {
   "codemirror_mode": {
    "name": "ipython",
    "version": 3
   },
   "file_extension": ".py",
   "mimetype": "text/x-python",
   "name": "python",
   "nbconvert_exporter": "python",
   "pygments_lexer": "ipython3",
   "version": "3.6.4"
  }
 },
 "nbformat": 4,
 "nbformat_minor": 2
}
